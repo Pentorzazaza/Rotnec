{
  "nbformat": 4,
  "nbformat_minor": 0,
  "metadata": {
    "colab": {
      "name": "RotnecV.1.ipynb",
      "provenance": [],
      "collapsed_sections": []
    },
    "kernelspec": {
      "name": "python3",
      "display_name": "Python 3"
    },
    "language_info": {
      "name": "python"
    }
  },
  "cells": [
    {
      "cell_type": "code",
      "metadata": {
        "colab": {
          "base_uri": "https://localhost:8080/"
        },
        "id": "jVPsB1MTHU0i",
        "outputId": "832c8c0a-7ca1-426c-c8a4-a238b3622d16"
      },
      "source": [
        "def calculator() :\n",
        "  num1 = input(\"Enter your first number\")\n",
        "  num2 = input(\"Enter your second number\")\n",
        "  x = float(input(\"What function do you want to calculate 1=+ 2=- 3=* 4=/ 5=%: \"))\n",
        "  if x == 1:\n",
        "    d=float(num1) + float(num2)\n",
        "    print(d)\n",
        "  elif x == 2:\n",
        "    d=float(num1) - float(num2)\n",
        "    print(d)\n",
        "  elif x==3:\n",
        "    d=float(num1) * float(num2)\n",
        "    print(d)\n",
        "  elif x==4:\n",
        "    d=float(num1) / float(num2)\n",
        "    print(d)\n",
        "  elif x==5:\n",
        "    d=float(num1) % float(num2)\n",
        "    print(d)\n",
        "calculator()"
      ],
      "execution_count": 37,
      "outputs": [
        {
          "output_type": "stream",
          "text": [
            "Enter your first number2\n",
            "Enter your second number10\n",
            "What function do you want to calculate 1=+ 2=- 3=* 4=/ 5=%: 2\n",
            "-8.0\n"
          ],
          "name": "stdout"
        }
      ]
    }
  ]
}